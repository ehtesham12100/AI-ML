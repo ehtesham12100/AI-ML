{
  "nbformat": 4,
  "nbformat_minor": 0,
  "metadata": {
    "colab": {
      "provenance": [],
      "authorship_tag": "ABX9TyNUAFx+HEIqehsXT+/cs5aj",
      "include_colab_link": true
    },
    "kernelspec": {
      "name": "python3",
      "display_name": "Python 3"
    },
    "language_info": {
      "name": "python"
    }
  },
  "cells": [
    {
      "cell_type": "markdown",
      "metadata": {
        "id": "view-in-github",
        "colab_type": "text"
      },
      "source": [
        "<a href=\"https://colab.research.google.com/github/ehtesham12100/AI-ML/blob/main/introduction_python_1.ipynb\" target=\"_parent\"><img src=\"https://colab.research.google.com/assets/colab-badge.svg\" alt=\"Open In Colab\"/></a>"
      ]
    },
    {
      "cell_type": "code",
      "source": [
        "import keyword\n",
        "print(keyword.kwlist)\n",
        "a=len(keyword.kwlist)\n",
        "print(a)"
      ],
      "metadata": {
        "colab": {
          "base_uri": "https://localhost:8080/"
        },
        "id": "mOY804FBbC3D",
        "outputId": "429227fc-555c-4274-daec-e9e6307c7267"
      },
      "execution_count": null,
      "outputs": [
        {
          "output_type": "stream",
          "name": "stdout",
          "text": [
            "['False', 'None', 'True', 'and', 'as', 'assert', 'async', 'await', 'break', 'class', 'continue', 'def', 'del', 'elif', 'else', 'except', 'finally', 'for', 'from', 'global', 'if', 'import', 'in', 'is', 'lambda', 'nonlocal', 'not', 'or', 'pass', 'raise', 'return', 'try', 'while', 'with', 'yield']\n",
            "35\n"
          ]
        }
      ]
    },
    {
      "cell_type": "code",
      "source": [
        "my_list = list(range(1, 11))\n",
        "reversed_list = my_list[::-1]\n",
        "print(reversed_list)\n"
      ],
      "metadata": {
        "colab": {
          "base_uri": "https://localhost:8080/"
        },
        "id": "BJzs4HAFgfyX",
        "outputId": "90605905-7995-4545-ced8-7ab53aaedbd4"
      },
      "execution_count": null,
      "outputs": [
        {
          "output_type": "stream",
          "name": "stdout",
          "text": [
            "[10, 9, 8, 7, 6, 5, 4, 3, 2, 1]\n"
          ]
        }
      ]
    },
    {
      "cell_type": "code",
      "source": [
        "str1=input(\"Enter the name\")\n",
        "str2=str1[::-1]\n",
        "if str1==str2:\n",
        "    print(\"palindrome\")\n",
        "else:\n",
        "    print(\"not palindrome\")"
      ],
      "metadata": {
        "id": "cbj9o8YRgvDi"
      },
      "execution_count": null,
      "outputs": []
    },
    {
      "cell_type": "code",
      "source": [
        "l1=[1,1,1,1,2,2,2,3,3,3,4,4,4,5,5]\n",
        "l2=[]\n",
        "for i in l1:\n",
        "    if i not in l2:\n",
        "        l2.append(i)\n",
        "print(l2)"
      ],
      "metadata": {
        "id": "Y9FE6BHKhkC1"
      },
      "execution_count": null,
      "outputs": []
    },
    {
      "cell_type": "code",
      "source": [
        "l1 = [1, 1, 1, 1, 2, 2, 2, 3, 3, 3, 4, 4, 4, 5, 5]\n",
        "l2 = []\n",
        "\n",
        "[l2.append(i) for i in l1 if i not in l2]\n",
        "\n",
        "print(l2)\n"
      ],
      "metadata": {
        "id": "Ynr28eILh4a9"
      },
      "execution_count": null,
      "outputs": []
    },
    {
      "cell_type": "code",
      "source": [
        "l1=[1,2,3,4,5,6,7,8,9,10]\n",
        "l2=list(set(l1))\n",
        "print(l2)"
      ],
      "metadata": {
        "id": "G_KzTQrMiogl"
      },
      "execution_count": null,
      "outputs": []
    },
    {
      "cell_type": "code",
      "source": [
        "#slicing\n",
        "l1=[1,2,3,4,5,6,7,8,9,10]\n",
        "print(l1[::2])\n"
      ],
      "metadata": {
        "id": "9Ab_yU45i__x"
      },
      "execution_count": null,
      "outputs": []
    },
    {
      "cell_type": "code",
      "source": [
        "#random\n",
        "import random\n",
        "l1=[1,2,3,4,5,6,7,8,9,10]\n",
        "random.shuffle(l1)\n",
        "print(l1)"
      ],
      "metadata": {
        "id": "6mgBbPu-jj0Y"
      },
      "execution_count": null,
      "outputs": []
    },
    {
      "cell_type": "code",
      "source": [
        "import random\n",
        "n=random.randint(1,10)\n",
        "print(n)"
      ],
      "metadata": {
        "id": "dpV5LKZ5klqN"
      },
      "execution_count": null,
      "outputs": []
    },
    {
      "cell_type": "code",
      "source": [
        "l1=[1,2,3]\n",
        "l2=[4,5,6,]\n",
        "l3=l1+l2\n",
        "print(l3)"
      ],
      "metadata": {
        "id": "5dW8e9tmks8V"
      },
      "execution_count": null,
      "outputs": []
    },
    {
      "cell_type": "code",
      "source": [
        "list_1=[1,2,3,4]\n",
        "print(list_1)\n",
        "list_2=list_1.copy()\n",
        "print(list_2)"
      ],
      "metadata": {
        "id": "9-lVMBDnlOvn"
      },
      "execution_count": null,
      "outputs": []
    },
    {
      "cell_type": "code",
      "source": [
        "A=[1,3,5,7,9]\n",
        "B=[2,4,6,8,10]\n",
        "A.extend(B)\n",
        "print(A)"
      ],
      "metadata": {
        "id": "r0EB_N38l5og"
      },
      "execution_count": null,
      "outputs": []
    },
    {
      "cell_type": "code",
      "source": [
        "# creatin a tuple with integer\n",
        "l1=(1,2,3,4,5)\n",
        "print(l1)"
      ],
      "metadata": {
        "id": "SNJiaDvxnAPa"
      },
      "execution_count": null,
      "outputs": []
    },
    {
      "cell_type": "code",
      "source": [],
      "metadata": {
        "colab": {
          "base_uri": "https://localhost:8080/"
        },
        "id": "4slDzSA4nWYE",
        "outputId": "34308773-6abd-4d27-8dbc-d17fa7a0acc9"
      },
      "execution_count": null,
      "outputs": [
        {
          "output_type": "stream",
          "name": "stdout",
          "text": [
            "(1, 'hello', 3.4)\n"
          ]
        }
      ]
    },
    {
      "cell_type": "code",
      "source": [
        "# accessing items of tuple\n",
        "a=(1,2,3,4,5)\n",
        "print(a)\n",
        "print(a[2])"
      ],
      "metadata": {
        "id": "bCK1IbtUnogZ"
      },
      "execution_count": null,
      "outputs": []
    },
    {
      "cell_type": "code",
      "source": [
        "#creating tuple with float.\n",
        "b=(6,5,5,9,2,0)\n",
        "print(b)"
      ],
      "metadata": {
        "colab": {
          "base_uri": "https://localhost:8080/"
        },
        "id": "MlNVwKLZ5Ii_",
        "outputId": "3e71613c-8502-4c20-e4f2-c156c31c1032"
      },
      "execution_count": null,
      "outputs": [
        {
          "output_type": "stream",
          "name": "stdout",
          "text": [
            "(6, 5, 5, 9, 2, 0)\n"
          ]
        }
      ]
    },
    {
      "cell_type": "code",
      "source": [
        "#creating tuple with string\n",
        "c=(\"one\",\"two\",\"three\")\n",
        "print(c)"
      ],
      "metadata": {
        "colab": {
          "base_uri": "https://localhost:8080/"
        },
        "id": "ofwMX0Uu5ctx",
        "outputId": "9ff37c93-834a-4f5f-903a-aa7319718709"
      },
      "execution_count": null,
      "outputs": [
        {
          "output_type": "stream",
          "name": "stdout",
          "text": [
            "('one', 'two', 'three')\n"
          ]
        }
      ]
    },
    {
      "cell_type": "code",
      "source": [
        "#creating tuple multiple data type\n",
        "mix=(1,\"hello\",3.4)\n",
        "print(mix)\n"
      ],
      "metadata": {
        "colab": {
          "base_uri": "https://localhost:8080/"
        },
        "id": "HdOltsK85suQ",
        "outputId": "26ae6bc8-1174-4625-de11-5b5bc7365dd8"
      },
      "execution_count": null,
      "outputs": [
        {
          "output_type": "stream",
          "name": "stdout",
          "text": [
            "(1, 'hello', 3.4)\n"
          ]
        }
      ]
    },
    {
      "cell_type": "code",
      "source": [
        "#accessing item of tuple\n",
        "a=(1,2,3,4,5,\"hello\")\n",
        "print(a)\n",
        "print(a[2])"
      ],
      "metadata": {
        "colab": {
          "base_uri": "https://localhost:8080/"
        },
        "id": "9YmAIlEN58Go",
        "outputId": "83ac9fd5-305c-43e1-ae92-6d502acf8837"
      },
      "execution_count": null,
      "outputs": [
        {
          "output_type": "stream",
          "name": "stdout",
          "text": [
            "(1, 2, 3, 4, 5, 'hello')\n",
            "3\n"
          ]
        }
      ]
    },
    {
      "cell_type": "code",
      "source": [
        "#create a dictionary\n",
        "a={\n",
        "    \"name\":\"ram\",\n",
        "    \"age\":20,\n",
        "    \"education\":\"BCA\"}\n",
        "print(a)"
      ],
      "metadata": {
        "id": "hdVtlB7b6wBw"
      },
      "execution_count": null,
      "outputs": []
    },
    {
      "cell_type": "code",
      "source": [
        "type(a)"
      ],
      "metadata": {
        "id": "7B8CMTYt8IBY"
      },
      "execution_count": null,
      "outputs": []
    },
    {
      "cell_type": "code",
      "source": [
        "len(a)"
      ],
      "metadata": {
        "id": "6Z6SAhtm832r"
      },
      "execution_count": null,
      "outputs": []
    },
    {
      "cell_type": "code",
      "source": [
        "x=a.keys()\n",
        "print(x)"
      ],
      "metadata": {
        "id": "cev4Qu4T850d"
      },
      "execution_count": null,
      "outputs": []
    },
    {
      "cell_type": "code",
      "source": [
        "y=a.values()\n",
        "print(y)"
      ],
      "metadata": {
        "id": "Uxe2uqgG9Dhr"
      },
      "execution_count": null,
      "outputs": []
    },
    {
      "cell_type": "code",
      "source": [
        "dict={\"name\":\"ram\",\"age\":20,\"education\":\"BCA\"}\n",
        "print(dict)"
      ],
      "metadata": {
        "id": "4w9rcDCR9IYy"
      },
      "execution_count": null,
      "outputs": []
    },
    {
      "cell_type": "code",
      "source": [
        "z=a.items"
      ],
      "metadata": {
        "id": "UT00F56I9QOx"
      },
      "execution_count": null,
      "outputs": []
    },
    {
      "cell_type": "code",
      "source": [],
      "metadata": {
        "id": "tTFkD6sY9eyq"
      },
      "execution_count": null,
      "outputs": []
    },
    {
      "cell_type": "markdown",
      "source": [
        "Dicitionary Method\n"
      ],
      "metadata": {
        "id": "sZlTE4Dn-SBD"
      }
    },
    {
      "cell_type": "code",
      "source": [
        "#example\n",
        "set=-(1,2,3,4,5)\n",
        "print(set1"
      ],
      "metadata": {
        "id": "QqvfhA28-Xcw"
      },
      "execution_count": null,
      "outputs": []
    },
    {
      "cell_type": "code",
      "source": [
        "#3 duplictes not allowed\n",
        "set={1,2,3,4,5,1,2,3,4,5}\n",
        "print(set2)"
      ],
      "metadata": {
        "id": "2D8B3IYd-g5I"
      },
      "execution_count": null,
      "outputs": []
    },
    {
      "cell_type": "code",
      "source": [
        "len(set)"
      ],
      "metadata": {
        "id": "rMbldoCn-pDX"
      },
      "execution_count": null,
      "outputs": []
    },
    {
      "cell_type": "code",
      "source": [
        "type(set)\n"
      ],
      "metadata": {
        "id": "EvSCiayV-x_e",
        "colab": {
          "base_uri": "https://localhost:8080/"
        },
        "outputId": "bf54136d-c061-4b81-8f75-dcf2b7c76730"
      },
      "execution_count": null,
      "outputs": [
        {
          "output_type": "execute_result",
          "data": {
            "text/plain": [
              "type"
            ]
          },
          "metadata": {},
          "execution_count": 11
        }
      ]
    }
  ]
}